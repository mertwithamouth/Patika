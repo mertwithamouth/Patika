{
 "cells": [
  {
   "cell_type": "code",
   "execution_count": 1,
   "metadata": {},
   "outputs": [],
   "source": [
    "import numpy as np"
   ]
  },
  {
   "cell_type": "markdown",
   "metadata": {},
   "source": [
    "# 1) HackerRank-Array\n",
    "\n",
    "### Task\n",
    "\n",
    "You are given a space separated list of numbers. \n",
    "Your task is to print a reversed NumPy array with the element type float.\n",
    "\n",
    "### Input Format\n",
    "A single line of input containing space separated numbers.\n",
    "\n",
    "### Output Format\n",
    "Print the reverse NumPy array with type float.\n",
    "\n",
    "### Sample Input\n",
    "1 2 3 4 -8 -10\n",
    "\n",
    "### Sample Output\n",
    "[-10.  -8.   4.   3.   2.   1.]\n"
   ]
  },
  {
   "cell_type": "code",
   "execution_count": 2,
   "metadata": {},
   "outputs": [
    {
     "name": "stdout",
     "output_type": "stream",
     "text": [
      "[-10.  -8.   4.   3.   2.   1.]\n"
     ]
    }
   ],
   "source": [
    "def arrays(arr):\n",
    "    #reverses the list than turns into an array that is float type\n",
    "    return np.array(arr[::-1], float)\n",
    "    \n",
    "#arr = input().strip().split(' ')\n",
    "#this was in the question but I am assigning the given input to the array\n",
    "arr=[1,2,3,4,-8,-10]\n",
    "result = arrays(arr)\n",
    "print(result)"
   ]
  },
  {
   "cell_type": "code",
   "execution_count": 3,
   "metadata": {},
   "outputs": [
    {
     "data": {
      "text/plain": [
       "array([[[[0., 0., 0., 0., 0.],\n",
       "         [0., 0., 0., 0., 0.],\n",
       "         [0., 0., 0., 0., 0.],\n",
       "         [0., 0., 0., 0., 0.],\n",
       "         [0., 0., 0., 0., 0.]],\n",
       "\n",
       "        [[0., 0., 0., 0., 0.],\n",
       "         [0., 0., 0., 0., 0.],\n",
       "         [0., 0., 0., 0., 0.],\n",
       "         [0., 0., 0., 0., 0.],\n",
       "         [0., 0., 0., 0., 0.]]],\n",
       "\n",
       "\n",
       "       [[[0., 0., 0., 0., 0.],\n",
       "         [0., 0., 0., 0., 0.],\n",
       "         [0., 0., 0., 0., 0.],\n",
       "         [0., 0., 0., 0., 0.],\n",
       "         [0., 0., 0., 0., 0.]],\n",
       "\n",
       "        [[0., 0., 0., 0., 0.],\n",
       "         [0., 0., 0., 0., 0.],\n",
       "         [0., 0., 0., 0., 0.],\n",
       "         [0., 0., 0., 0., 0.],\n",
       "         [0., 0., 0., 0., 0.]]]])"
      ]
     },
     "execution_count": 3,
     "metadata": {},
     "output_type": "execute_result"
    }
   ],
   "source": [
    "np.zeros((2,2,5,5))"
   ]
  },
  {
   "cell_type": "code",
   "execution_count": null,
   "metadata": {},
   "outputs": [],
   "source": []
  },
  {
   "cell_type": "markdown",
   "metadata": {},
   "source": [
    "# 2) HackerRank-Concatenate\n",
    "\n",
    "\n",
    "### Task\n",
    "You are given two integer arrays of size N x P and M x P. Your task is to concatenate the arrays along axis .\n",
    "\n",
    "#### Input Format\n",
    "The first line contains space separated integers ,  and . \n",
    "The next  lines contains the space separated elements of the  columns. \n",
    "After that, the next  lines contains the space separated elements of the  columns.\n",
    "\n",
    "#### Output Format\n",
    "Print the concatenated array of size X.\n",
    "\n",
    "#### Sample Input\n",
    "4 3 2\n",
    "1 2\n",
    "1 2 \n",
    "1 2\n",
    "1 2\n",
    "3 4\n",
    "3 4\n",
    "3 4 \n",
    "\n",
    "#### Sample Output\n",
    "[[1 2]\n",
    " [1 2]\n",
    " [1 2]\n",
    " [1 2]\n",
    " [3 4]\n",
    " [3 4]\n",
    " [3 4]] "
   ]
  },
  {
   "cell_type": "code",
   "execution_count": null,
   "metadata": {},
   "outputs": [],
   "source": [
    "n,m,p = map(int, input().split())\n",
    "\n",
    "#takes the inputs and puts them into the array as in format\n",
    "arr1=np.array([input().split() for i in range(n)], int)\n",
    "arr2=np.array([input().split() for j in range(m)], int)\n",
    "\n",
    "#axis=0 is row based concatenate\n",
    "print(np.concatenate((arr1,arr2),axis=0))\n"
   ]
  },
  {
   "cell_type": "code",
   "execution_count": null,
   "metadata": {},
   "outputs": [],
   "source": []
  },
  {
   "cell_type": "markdown",
   "metadata": {},
   "source": [
    "## 3) HackerRank-Min/Max Numpy\n",
    "\n",
    "### Task\n",
    "You are given a 2-D array with dimensions N X M. \n",
    "Your task is to perform the min function over axis  and then find the max of that.\n",
    "\n",
    "\n",
    "### Input Format\n",
    "The first line of input contains the space separated values of n and m. \n",
    "The next  lines contains  space separated integers.\n",
    "\n",
    "### Output Format\n",
    "Compute the min along axis  and then print the max of that result.\n",
    "\n",
    "### Sample Input\n",
    "4 2<br>\n",
    "2 5<br>\n",
    "3 7<br>\n",
    "1 3<br>\n",
    "4 0\n",
    "\n",
    "### Sample Output\n",
    "3\n",
    "\n",
    "### Explanation\n",
    "The min along axis 1 = [2,3,1,0]<br><br>\n",
    "The max of [2,3,1,0] = 3"
   ]
  },
  {
   "cell_type": "code",
   "execution_count": null,
   "metadata": {},
   "outputs": [],
   "source": [
    "\n",
    "#Takes the n x m\n",
    "n,m = map(int,input().split())\n",
    "\n",
    "#adds each element to the array\n",
    "arr1=np.array([input().split() for i in range(n)], int)\n",
    "\n",
    "#minimum value along a given axis then finds the max element\n",
    "print(max(np.min(arr1, axis = 1)))"
   ]
  },
  {
   "cell_type": "code",
   "execution_count": null,
   "metadata": {},
   "outputs": [],
   "source": []
  },
  {
   "cell_type": "markdown",
   "metadata": {},
   "source": [
    "## 4) HackerRank Sum and Prod/Numpy\n",
    "\n",
    "### Task\n",
    "You are given a 2-D array with dimensions N X M. \n",
    "Your task is to perform the  tool over axis  and then find the  of that result.\n",
    "\n",
    "### Input Format\n",
    "The first line of input contains space separated values of n and m. \n",
    "The next  lines contains  space separated integers.\n",
    "\n",
    "### Output Format\n",
    "Compute the sum along axis . Then, print the product of that sum.\n",
    "\n",
    "### Sample Input\n",
    "2 2<br>\n",
    "1 2<br>\n",
    "3 4\n",
    "### Sample Output\n",
    "24\n",
    "\n",
    "### Explanation\n",
    "The sum along axis  0 = [4 6 ] <br><br>\n",
    "The product of this sum = 24"
   ]
  },
  {
   "cell_type": "code",
   "execution_count": null,
   "metadata": {},
   "outputs": [],
   "source": [
    "n,m = map(int,input().split())\n",
    "\n",
    "arr1=np.array([input().split() for i in range(n)], int)\n",
    "\n",
    "#got the sum then returned the product\n",
    "print(np.prod(np.sum(arr1, axis = 0)))"
   ]
  },
  {
   "cell_type": "code",
   "execution_count": null,
   "metadata": {},
   "outputs": [],
   "source": []
  }
 ],
 "metadata": {
  "kernelspec": {
   "display_name": "Python 3",
   "language": "python",
   "name": "python3"
  },
  "language_info": {
   "codemirror_mode": {
    "name": "ipython",
    "version": 3
   },
   "file_extension": ".py",
   "mimetype": "text/x-python",
   "name": "python",
   "nbconvert_exporter": "python",
   "pygments_lexer": "ipython3",
   "version": "3.8.5"
  }
 },
 "nbformat": 4,
 "nbformat_minor": 4
}
